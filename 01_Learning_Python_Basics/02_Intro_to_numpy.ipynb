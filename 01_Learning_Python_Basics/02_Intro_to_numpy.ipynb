{
 "cells": [
  {
   "cell_type": "code",
   "execution_count": 1,
   "metadata": {},
   "outputs": [
    {
     "name": "stderr",
     "output_type": "stream",
     "text": [
      "C:\\Users\\K\\AppData\\Local\\Temp\\ipykernel_5040\\1662815981.py:2: DeprecationWarning: \n",
      "Pyarrow will become a required dependency of pandas in the next major release of pandas (pandas 3.0),\n",
      "(to allow more performant data types, such as the Arrow string type, and better interoperability with other libraries)\n",
      "but was not found to be installed on your system.\n",
      "If this would cause problems for you,\n",
      "please provide us feedback at https://github.com/pandas-dev/pandas/issues/54466\n",
      "        \n",
      "  import pandas as pd\n"
     ]
    }
   ],
   "source": [
    "import numpy as np\n",
    "import pandas as pd"
   ]
  },
  {
   "cell_type": "code",
   "execution_count": 4,
   "metadata": {},
   "outputs": [
    {
     "name": "stdout",
     "output_type": "stream",
     "text": [
      "[1 2 3]\n"
     ]
    }
   ],
   "source": [
    "my_array = np.array([1,2,3])\n",
    "print(my_array)"
   ]
  },
  {
   "cell_type": "code",
   "execution_count": 6,
   "metadata": {},
   "outputs": [
    {
     "data": {
      "text/plain": [
       "1"
      ]
     },
     "execution_count": 6,
     "metadata": {},
     "output_type": "execute_result"
    }
   ],
   "source": [
    "my_array[0]"
   ]
  },
  {
   "cell_type": "code",
   "execution_count": 8,
   "metadata": {},
   "outputs": [
    {
     "data": {
      "text/plain": [
       "dict"
      ]
     },
     "execution_count": 8,
     "metadata": {},
     "output_type": "execute_result"
    }
   ],
   "source": [
    "instructors_data = {\n",
    "    \n",
    "    'name': [\"Del\", \"Aileen\", \"Mhairi\", \"Steph\", \"Mandy\", \"Colin\"],\n",
    "    'favourite_number': [7, 12, 3, 9, 4, 11]\n",
    "}\n",
    "\n",
    "instructors_data\n",
    "type(instructors_data)"
   ]
  },
  {
   "cell_type": "code",
   "execution_count": 11,
   "metadata": {},
   "outputs": [
    {
     "data": {
      "text/html": [
       "<div>\n",
       "<style scoped>\n",
       "    .dataframe tbody tr th:only-of-type {\n",
       "        vertical-align: middle;\n",
       "    }\n",
       "\n",
       "    .dataframe tbody tr th {\n",
       "        vertical-align: top;\n",
       "    }\n",
       "\n",
       "    .dataframe thead th {\n",
       "        text-align: right;\n",
       "    }\n",
       "</style>\n",
       "<table border=\"1\" class=\"dataframe\">\n",
       "  <thead>\n",
       "    <tr style=\"text-align: right;\">\n",
       "      <th></th>\n",
       "      <th>name</th>\n",
       "      <th>favourite_number</th>\n",
       "    </tr>\n",
       "  </thead>\n",
       "  <tbody>\n",
       "    <tr>\n",
       "      <th>0</th>\n",
       "      <td>Del</td>\n",
       "      <td>7</td>\n",
       "    </tr>\n",
       "    <tr>\n",
       "      <th>1</th>\n",
       "      <td>Aileen</td>\n",
       "      <td>12</td>\n",
       "    </tr>\n",
       "    <tr>\n",
       "      <th>2</th>\n",
       "      <td>Mhairi</td>\n",
       "      <td>3</td>\n",
       "    </tr>\n",
       "    <tr>\n",
       "      <th>3</th>\n",
       "      <td>Steph</td>\n",
       "      <td>9</td>\n",
       "    </tr>\n",
       "    <tr>\n",
       "      <th>4</th>\n",
       "      <td>Mandy</td>\n",
       "      <td>4</td>\n",
       "    </tr>\n",
       "    <tr>\n",
       "      <th>5</th>\n",
       "      <td>Colin</td>\n",
       "      <td>11</td>\n",
       "    </tr>\n",
       "  </tbody>\n",
       "</table>\n",
       "</div>"
      ],
      "text/plain": [
       "     name  favourite_number\n",
       "0     Del                 7\n",
       "1  Aileen                12\n",
       "2  Mhairi                 3\n",
       "3   Steph                 9\n",
       "4   Mandy                 4\n",
       "5   Colin                11"
      ]
     },
     "execution_count": 11,
     "metadata": {},
     "output_type": "execute_result"
    }
   ],
   "source": [
    "instructors_dataframe = pd.DataFrame(instructors_data)\n",
    "\n",
    "instructors_dataframe\n"
   ]
  },
  {
   "cell_type": "code",
   "execution_count": 12,
   "metadata": {},
   "outputs": [
    {
     "data": {
      "text/html": [
       "<div>\n",
       "<style scoped>\n",
       "    .dataframe tbody tr th:only-of-type {\n",
       "        vertical-align: middle;\n",
       "    }\n",
       "\n",
       "    .dataframe tbody tr th {\n",
       "        vertical-align: top;\n",
       "    }\n",
       "\n",
       "    .dataframe thead th {\n",
       "        text-align: right;\n",
       "    }\n",
       "</style>\n",
       "<table border=\"1\" class=\"dataframe\">\n",
       "  <thead>\n",
       "    <tr style=\"text-align: right;\">\n",
       "      <th></th>\n",
       "      <th>name</th>\n",
       "      <th>favourite_number</th>\n",
       "    </tr>\n",
       "  </thead>\n",
       "  <tbody>\n",
       "    <tr>\n",
       "      <th>1</th>\n",
       "      <td>Del</td>\n",
       "      <td>7</td>\n",
       "    </tr>\n",
       "    <tr>\n",
       "      <th>2</th>\n",
       "      <td>Aileen</td>\n",
       "      <td>12</td>\n",
       "    </tr>\n",
       "    <tr>\n",
       "      <th>3</th>\n",
       "      <td>Mhairi</td>\n",
       "      <td>3</td>\n",
       "    </tr>\n",
       "    <tr>\n",
       "      <th>4</th>\n",
       "      <td>Steph</td>\n",
       "      <td>9</td>\n",
       "    </tr>\n",
       "    <tr>\n",
       "      <th>5</th>\n",
       "      <td>Mandy</td>\n",
       "      <td>4</td>\n",
       "    </tr>\n",
       "  </tbody>\n",
       "</table>\n",
       "</div>"
      ],
      "text/plain": [
       "     name  favourite_number\n",
       "1     Del                 7\n",
       "2  Aileen                12\n",
       "3  Mhairi                 3\n",
       "4   Steph                 9\n",
       "5   Mandy                 4"
      ]
     },
     "execution_count": 12,
     "metadata": {},
     "output_type": "execute_result"
    }
   ],
   "source": [
    "instructors_dataframe = pd.DataFrame({\n",
    "    'name': [\"Del\", \"Aileen\", \"Mhairi\", \"Steph\", \"Mandy\"],\n",
    "    'favourite_number': [7, 12, 3, 9, 4]},\n",
    "    index = [1,2,3,4,5]\n",
    "    )\n",
    "    \n",
    "instructors_dataframe"
   ]
  },
  {
   "cell_type": "code",
   "execution_count": 27,
   "metadata": {},
   "outputs": [
    {
     "name": "stdout",
     "output_type": "stream",
     "text": [
      "Fido barks!\n",
      "Fido chases the ball!\n",
      "Fido eats dog biscuits!\n",
      "Fido is 4 years old and has a brown coat.\n"
     ]
    }
   ],
   "source": [
    "class Dog:\n",
    "\n",
    "  def __init__(self, name, age, coat):\n",
    "    self.name = name\n",
    "    self.age = age\n",
    "    self.coat = coat\n",
    "    \n",
    "  def bark(self):\n",
    "    print(self.name + \" barks!\")\n",
    "    \n",
    "  def chase_ball(self):\n",
    "      if self.age < 10:\n",
    "          print(self.name + \" chases the ball!\")\n",
    "      else:\n",
    "          print(self.name + \" sits and stares at you accusingly...\")\n",
    "\n",
    "  def eat(self, food):\n",
    "   print(self.name + \" eats \" + food + \"!\")\n",
    "   \n",
    "  def describe(self):\n",
    "   print (self.name + \" is \" + str(self.age) +\" years old and has a \" + self.coat + \" coat.\")\n",
    "    \n",
    "fido = Dog(\"Fido\", 4, \"brown\")\n",
    "fido.bark()\n",
    "fido.chase_ball()\n",
    "fido.eat(\"dog biscuits\")\n",
    "fido.describe()"
   ]
  },
  {
   "cell_type": "code",
   "execution_count": 29,
   "metadata": {},
   "outputs": [
    {
     "name": "stdout",
     "output_type": "stream",
     "text": [
      "Rex is 10 years old and has a White coat.\n"
     ]
    }
   ],
   "source": [
    "rex = Dog(\"Rex\", 10, \"White\")\n",
    "\n",
    "rex.describe()"
   ]
  },
  {
   "cell_type": "code",
   "execution_count": 35,
   "metadata": {},
   "outputs": [],
   "source": [
    "class DataHolder:\n",
    "\n",
    "  def __init__(self, data):\n",
    "    self.data = np.array(data)\n",
    "    # self.norm is not passed in here, it is calculated from the input data\n",
    "    self.norm = np.sqrt(np.sum(self.data ** 2))\n",
    "    \n",
    "  def get_normalised(self):\n",
    "    return list(self.data / self.norm)"
   ]
  },
  {
   "cell_type": "code",
   "execution_count": 32,
   "metadata": {},
   "outputs": [
    {
     "data": {
      "text/plain": [
       "array([3, 4, 5])"
      ]
     },
     "execution_count": 32,
     "metadata": {},
     "output_type": "execute_result"
    }
   ],
   "source": [
    "data_holder = DataHolder([3,4,5])\n",
    "\n",
    "data_holder.data"
   ]
  },
  {
   "cell_type": "code",
   "execution_count": 34,
   "metadata": {},
   "outputs": [
    {
     "data": {
      "text/plain": [
       "[0.4242640687119285, 0.565685424949238, 0.7071067811865475]"
      ]
     },
     "execution_count": 34,
     "metadata": {},
     "output_type": "execute_result"
    }
   ],
   "source": [
    "data_holder.get_normalised()"
   ]
  },
  {
   "cell_type": "code",
   "execution_count": 36,
   "metadata": {},
   "outputs": [],
   "source": [
    "years_of_birth = [1990, 1991, 1990, 1990, 1992, 1991, 1976, 1984, 1940]"
   ]
  },
  {
   "cell_type": "code",
   "execution_count": 44,
   "metadata": {},
   "outputs": [
    {
     "data": {
      "text/plain": [
       "[34, 33, 34, 34, 32, 33, 48, 40, 84]"
      ]
     },
     "execution_count": 44,
     "metadata": {},
     "output_type": "execute_result"
    }
   ],
   "source": [
    "\n",
    "#Finding\n",
    "list_of_age = []\n",
    "\n",
    "\n",
    "for i in years_of_birth:\n",
    "    list_of_age.append(2024 - i)\n",
    "\n",
    "list_of_age  "
   ]
  },
  {
   "cell_type": "code",
   "execution_count": 87,
   "metadata": {},
   "outputs": [
    {
     "name": "stdout",
     "output_type": "stream",
     "text": [
      "233168\n"
     ]
    }
   ],
   "source": [
    "# Multiple of 3 or 5\n",
    "\n",
    "def sum_of_multiple(number):\n",
    "    number_array = []   \n",
    "    # Keep all the numbers that is divisible by 3 or 5 within the given input nautral numbe\n",
    "    [number_array.append(i) for i in range(1, number) if i %3 ==0 or i%5 == 0]\n",
    "    print(sum(number_array))\n",
    "    \n",
    "sum_of_multiple(1000)   \n",
    "    \n"
   ]
  },
  {
   "cell_type": "code",
   "execution_count": 117,
   "metadata": {},
   "outputs": [
    {
     "name": "stdout",
     "output_type": "stream",
     "text": [
      "['I', 'am', 'counting', 'my', 'calories', 'yet', 'really', 'want', 'dessert', 'still', 'hungry']\n"
     ]
    }
   ],
   "source": [
    "# No need to repeat yourself...\n",
    "test = [\"I\", \"am\", \"counting\", \"my\", \"calories\", \"yet\", \"I\", \"really\", \"want\", \"dessert\", \"I\", \"am\", \"still\", \"hungry\"]\n",
    "\n",
    "def remove_duplicates(input_list):\n",
    "    new_list = []\n",
    "    \n",
    "    [new_list.append(input_list[i]) for i in range(0, len(input_list)) if input_list[i] not in  input_list[0:i]]\n",
    "    print(new_list)\n",
    "\n",
    "remove_duplicates(test)\n"
   ]
  },
  {
   "cell_type": "code",
   "execution_count": 112,
   "metadata": {},
   "outputs": [
    {
     "data": {
      "text/plain": [
       "['I']"
      ]
     },
     "execution_count": 112,
     "metadata": {},
     "output_type": "execute_result"
    }
   ],
   "source": []
  },
  {
   "cell_type": "code",
   "execution_count": null,
   "metadata": {},
   "outputs": [],
   "source": []
  },
  {
   "cell_type": "code",
   "execution_count": null,
   "metadata": {},
   "outputs": [],
   "source": []
  }
 ],
 "metadata": {
  "kernelspec": {
   "display_name": "Python 3",
   "language": "python",
   "name": "python3"
  },
  "language_info": {
   "codemirror_mode": {
    "name": "ipython",
    "version": 3
   },
   "file_extension": ".py",
   "mimetype": "text/x-python",
   "name": "python",
   "nbconvert_exporter": "python",
   "pygments_lexer": "ipython3",
   "version": "3.12.2"
  }
 },
 "nbformat": 4,
 "nbformat_minor": 2
}
