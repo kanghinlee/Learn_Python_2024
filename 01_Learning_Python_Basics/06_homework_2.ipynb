{
 "cells": [
  {
   "cell_type": "code",
   "execution_count": 15,
   "metadata": {},
   "outputs": [],
   "source": [
    "import pandas as pd\n",
    "import matplotlib.pyplot as plt"
   ]
  },
  {
   "cell_type": "code",
   "execution_count": 2,
   "metadata": {},
   "outputs": [],
   "source": [
    "raw_drinks_content = pd.read_csv(\"data_in/day02_hw/starbucks_drinkMenu_expanded.csv\")"
   ]
  },
  {
   "cell_type": "code",
   "execution_count": 3,
   "metadata": {},
   "outputs": [],
   "source": [
    "drinks_content = raw_drinks_content.copy()"
   ]
  },
  {
   "cell_type": "code",
   "execution_count": 4,
   "metadata": {},
   "outputs": [
    {
     "data": {
      "text/html": [
       "<div>\n",
       "<style scoped>\n",
       "    .dataframe tbody tr th:only-of-type {\n",
       "        vertical-align: middle;\n",
       "    }\n",
       "\n",
       "    .dataframe tbody tr th {\n",
       "        vertical-align: top;\n",
       "    }\n",
       "\n",
       "    .dataframe thead th {\n",
       "        text-align: right;\n",
       "    }\n",
       "</style>\n",
       "<table border=\"1\" class=\"dataframe\">\n",
       "  <thead>\n",
       "    <tr style=\"text-align: right;\">\n",
       "      <th></th>\n",
       "      <th>Beverage_category</th>\n",
       "      <th>Beverage</th>\n",
       "      <th>Beverage_prep</th>\n",
       "      <th>Calories</th>\n",
       "      <th>Total Fat (g)</th>\n",
       "      <th>Trans Fat (g)</th>\n",
       "      <th>Saturated Fat (g)</th>\n",
       "      <th>Sodium (mg)</th>\n",
       "      <th>Total Carbohydrates (g)</th>\n",
       "      <th>Cholesterol (mg)</th>\n",
       "      <th>Dietary Fibre (g)</th>\n",
       "      <th>Sugars (g)</th>\n",
       "      <th>Protein (g)</th>\n",
       "      <th>Vitamin A (% DV)</th>\n",
       "      <th>Vitamin C (% DV)</th>\n",
       "      <th>Calcium (% DV)</th>\n",
       "      <th>Iron (% DV)</th>\n",
       "      <th>Caffeine (mg)</th>\n",
       "    </tr>\n",
       "  </thead>\n",
       "  <tbody>\n",
       "    <tr>\n",
       "      <th>0</th>\n",
       "      <td>Coffee</td>\n",
       "      <td>Brewed Coffee</td>\n",
       "      <td>Short</td>\n",
       "      <td>3</td>\n",
       "      <td>0.1</td>\n",
       "      <td>0.0</td>\n",
       "      <td>0.0</td>\n",
       "      <td>0</td>\n",
       "      <td>5</td>\n",
       "      <td>0</td>\n",
       "      <td>0</td>\n",
       "      <td>0</td>\n",
       "      <td>0.3</td>\n",
       "      <td>0%</td>\n",
       "      <td>0%</td>\n",
       "      <td>0%</td>\n",
       "      <td>0%</td>\n",
       "      <td>175</td>\n",
       "    </tr>\n",
       "    <tr>\n",
       "      <th>1</th>\n",
       "      <td>Coffee</td>\n",
       "      <td>Brewed Coffee</td>\n",
       "      <td>Tall</td>\n",
       "      <td>4</td>\n",
       "      <td>0.1</td>\n",
       "      <td>0.0</td>\n",
       "      <td>0.0</td>\n",
       "      <td>0</td>\n",
       "      <td>10</td>\n",
       "      <td>0</td>\n",
       "      <td>0</td>\n",
       "      <td>0</td>\n",
       "      <td>0.5</td>\n",
       "      <td>0%</td>\n",
       "      <td>0%</td>\n",
       "      <td>0%</td>\n",
       "      <td>0%</td>\n",
       "      <td>260</td>\n",
       "    </tr>\n",
       "    <tr>\n",
       "      <th>2</th>\n",
       "      <td>Coffee</td>\n",
       "      <td>Brewed Coffee</td>\n",
       "      <td>Grande</td>\n",
       "      <td>5</td>\n",
       "      <td>0.1</td>\n",
       "      <td>0.0</td>\n",
       "      <td>0.0</td>\n",
       "      <td>0</td>\n",
       "      <td>10</td>\n",
       "      <td>0</td>\n",
       "      <td>0</td>\n",
       "      <td>0</td>\n",
       "      <td>1.0</td>\n",
       "      <td>0%</td>\n",
       "      <td>0%</td>\n",
       "      <td>0%</td>\n",
       "      <td>0%</td>\n",
       "      <td>330</td>\n",
       "    </tr>\n",
       "    <tr>\n",
       "      <th>3</th>\n",
       "      <td>Coffee</td>\n",
       "      <td>Brewed Coffee</td>\n",
       "      <td>Venti</td>\n",
       "      <td>5</td>\n",
       "      <td>0.1</td>\n",
       "      <td>0.0</td>\n",
       "      <td>0.0</td>\n",
       "      <td>0</td>\n",
       "      <td>10</td>\n",
       "      <td>0</td>\n",
       "      <td>0</td>\n",
       "      <td>0</td>\n",
       "      <td>1.0</td>\n",
       "      <td>0%</td>\n",
       "      <td>0%</td>\n",
       "      <td>2%</td>\n",
       "      <td>0%</td>\n",
       "      <td>410</td>\n",
       "    </tr>\n",
       "    <tr>\n",
       "      <th>4</th>\n",
       "      <td>Classic Espresso Drinks</td>\n",
       "      <td>Caffè Latte</td>\n",
       "      <td>Short Nonfat Milk</td>\n",
       "      <td>70</td>\n",
       "      <td>0.1</td>\n",
       "      <td>0.1</td>\n",
       "      <td>0.0</td>\n",
       "      <td>5</td>\n",
       "      <td>75</td>\n",
       "      <td>10</td>\n",
       "      <td>0</td>\n",
       "      <td>9</td>\n",
       "      <td>6.0</td>\n",
       "      <td>10%</td>\n",
       "      <td>0%</td>\n",
       "      <td>20%</td>\n",
       "      <td>0%</td>\n",
       "      <td>75</td>\n",
       "    </tr>\n",
       "  </tbody>\n",
       "</table>\n",
       "</div>"
      ],
      "text/plain": [
       "         Beverage_category       Beverage      Beverage_prep  Calories  \\\n",
       "0                   Coffee  Brewed Coffee              Short         3   \n",
       "1                   Coffee  Brewed Coffee               Tall         4   \n",
       "2                   Coffee  Brewed Coffee             Grande         5   \n",
       "3                   Coffee  Brewed Coffee              Venti         5   \n",
       "4  Classic Espresso Drinks    Caffè Latte  Short Nonfat Milk        70   \n",
       "\n",
       "   Total Fat (g)  Trans Fat (g)   Saturated Fat (g)   Sodium (mg)  \\\n",
       "0            0.1             0.0                0.0             0   \n",
       "1            0.1             0.0                0.0             0   \n",
       "2            0.1             0.0                0.0             0   \n",
       "3            0.1             0.0                0.0             0   \n",
       "4            0.1             0.1                0.0             5   \n",
       "\n",
       "    Total Carbohydrates (g)   Cholesterol (mg)   Dietary Fibre (g)  \\\n",
       "0                          5                 0                   0   \n",
       "1                         10                 0                   0   \n",
       "2                         10                 0                   0   \n",
       "3                         10                 0                   0   \n",
       "4                         75                10                   0   \n",
       "\n",
       "    Sugars (g)   Protein (g)  Vitamin A (% DV)  Vitamin C (% DV)  \\\n",
       "0            0            0.3                0%               0%   \n",
       "1            0            0.5                0%               0%   \n",
       "2            0            1.0                0%               0%   \n",
       "3            0            1.0                0%               0%   \n",
       "4            9            6.0               10%               0%   \n",
       "\n",
       "   Calcium (% DV)  Iron (% DV)  Caffeine (mg)  \n",
       "0               0%           0%           175  \n",
       "1               0%           0%           260  \n",
       "2               0%           0%           330  \n",
       "3               2%           0%           410  \n",
       "4              20%           0%            75  "
      ]
     },
     "execution_count": 4,
     "metadata": {},
     "output_type": "execute_result"
    }
   ],
   "source": [
    "drinks_content.head(5)"
   ]
  },
  {
   "cell_type": "code",
   "execution_count": 5,
   "metadata": {},
   "outputs": [
    {
     "data": {
      "text/html": [
       "<div>\n",
       "<style scoped>\n",
       "    .dataframe tbody tr th:only-of-type {\n",
       "        vertical-align: middle;\n",
       "    }\n",
       "\n",
       "    .dataframe tbody tr th {\n",
       "        vertical-align: top;\n",
       "    }\n",
       "\n",
       "    .dataframe thead th {\n",
       "        text-align: right;\n",
       "    }\n",
       "</style>\n",
       "<table border=\"1\" class=\"dataframe\">\n",
       "  <thead>\n",
       "    <tr style=\"text-align: right;\">\n",
       "      <th></th>\n",
       "      <th>Beverage_category</th>\n",
       "      <th>Beverage</th>\n",
       "      <th>Beverage_prep</th>\n",
       "      <th>Calories</th>\n",
       "      <th>Total Fat (g)</th>\n",
       "      <th>Trans Fat (g)</th>\n",
       "      <th>Saturated Fat (g)</th>\n",
       "      <th>Sodium (mg)</th>\n",
       "      <th>Total Carbohydrates (g)</th>\n",
       "      <th>Cholesterol (mg)</th>\n",
       "      <th>Dietary Fibre (g)</th>\n",
       "      <th>Sugars (g)</th>\n",
       "      <th>Protein (g)</th>\n",
       "      <th>Vitamin A (% DV)</th>\n",
       "      <th>Vitamin C (% DV)</th>\n",
       "      <th>Calcium (% DV)</th>\n",
       "      <th>Iron (% DV)</th>\n",
       "      <th>Caffeine (mg)</th>\n",
       "    </tr>\n",
       "  </thead>\n",
       "  <tbody>\n",
       "    <tr>\n",
       "      <th>237</th>\n",
       "      <td>Frappuccino® Blended Crème</td>\n",
       "      <td>Strawberries &amp; Crème (Without Whipped Cream)</td>\n",
       "      <td>Soymilk</td>\n",
       "      <td>320</td>\n",
       "      <td>3 2</td>\n",
       "      <td>0.4</td>\n",
       "      <td>0.0</td>\n",
       "      <td>0</td>\n",
       "      <td>250</td>\n",
       "      <td>67</td>\n",
       "      <td>1</td>\n",
       "      <td>64</td>\n",
       "      <td>5.0</td>\n",
       "      <td>6%</td>\n",
       "      <td>8%</td>\n",
       "      <td>20%</td>\n",
       "      <td>10%</td>\n",
       "      <td>0</td>\n",
       "    </tr>\n",
       "    <tr>\n",
       "      <th>238</th>\n",
       "      <td>Frappuccino® Blended Crème</td>\n",
       "      <td>Vanilla Bean (Without Whipped Cream)</td>\n",
       "      <td>Tall Nonfat Milk</td>\n",
       "      <td>170</td>\n",
       "      <td>0.1</td>\n",
       "      <td>0.1</td>\n",
       "      <td>0.0</td>\n",
       "      <td>0</td>\n",
       "      <td>160</td>\n",
       "      <td>39</td>\n",
       "      <td>0</td>\n",
       "      <td>38</td>\n",
       "      <td>4.0</td>\n",
       "      <td>6%</td>\n",
       "      <td>0%</td>\n",
       "      <td>10%</td>\n",
       "      <td>0%</td>\n",
       "      <td>0</td>\n",
       "    </tr>\n",
       "    <tr>\n",
       "      <th>239</th>\n",
       "      <td>Frappuccino® Blended Crème</td>\n",
       "      <td>Vanilla Bean (Without Whipped Cream)</td>\n",
       "      <td>Whole Milk</td>\n",
       "      <td>200</td>\n",
       "      <td>3.5</td>\n",
       "      <td>2.0</td>\n",
       "      <td>0.1</td>\n",
       "      <td>10</td>\n",
       "      <td>160</td>\n",
       "      <td>39</td>\n",
       "      <td>0</td>\n",
       "      <td>38</td>\n",
       "      <td>3.0</td>\n",
       "      <td>6%</td>\n",
       "      <td>0%</td>\n",
       "      <td>10%</td>\n",
       "      <td>0%</td>\n",
       "      <td>0</td>\n",
       "    </tr>\n",
       "    <tr>\n",
       "      <th>240</th>\n",
       "      <td>Frappuccino® Blended Crème</td>\n",
       "      <td>Vanilla Bean (Without Whipped Cream)</td>\n",
       "      <td>Soymilk</td>\n",
       "      <td>180</td>\n",
       "      <td>1.5</td>\n",
       "      <td>0.2</td>\n",
       "      <td>0.0</td>\n",
       "      <td>0</td>\n",
       "      <td>160</td>\n",
       "      <td>37</td>\n",
       "      <td>1</td>\n",
       "      <td>35</td>\n",
       "      <td>3.0</td>\n",
       "      <td>4%</td>\n",
       "      <td>0%</td>\n",
       "      <td>10%</td>\n",
       "      <td>6%</td>\n",
       "      <td>0</td>\n",
       "    </tr>\n",
       "    <tr>\n",
       "      <th>241</th>\n",
       "      <td>Frappuccino® Blended Crème</td>\n",
       "      <td>Vanilla Bean (Without Whipped Cream)</td>\n",
       "      <td>Grande Nonfat Milk</td>\n",
       "      <td>240</td>\n",
       "      <td>0.1</td>\n",
       "      <td>0.1</td>\n",
       "      <td>0.0</td>\n",
       "      <td>5</td>\n",
       "      <td>230</td>\n",
       "      <td>56</td>\n",
       "      <td>0</td>\n",
       "      <td>55</td>\n",
       "      <td>5.0</td>\n",
       "      <td>8%</td>\n",
       "      <td>0%</td>\n",
       "      <td>15%</td>\n",
       "      <td>0%</td>\n",
       "      <td>0</td>\n",
       "    </tr>\n",
       "  </tbody>\n",
       "</table>\n",
       "</div>"
      ],
      "text/plain": [
       "              Beverage_category                                      Beverage  \\\n",
       "237  Frappuccino® Blended Crème  Strawberries & Crème (Without Whipped Cream)   \n",
       "238  Frappuccino® Blended Crème          Vanilla Bean (Without Whipped Cream)   \n",
       "239  Frappuccino® Blended Crème          Vanilla Bean (Without Whipped Cream)   \n",
       "240  Frappuccino® Blended Crème          Vanilla Bean (Without Whipped Cream)   \n",
       "241  Frappuccino® Blended Crème          Vanilla Bean (Without Whipped Cream)   \n",
       "\n",
       "          Beverage_prep  Calories  Total Fat (g)  Trans Fat (g)   \\\n",
       "237             Soymilk       320            3 2             0.4   \n",
       "238    Tall Nonfat Milk       170            0.1             0.1   \n",
       "239          Whole Milk       200            3.5             2.0   \n",
       "240             Soymilk       180            1.5             0.2   \n",
       "241  Grande Nonfat Milk       240            0.1             0.1   \n",
       "\n",
       "     Saturated Fat (g)   Sodium (mg)   Total Carbohydrates (g)   \\\n",
       "237                0.0             0                        250   \n",
       "238                0.0             0                        160   \n",
       "239                0.1            10                        160   \n",
       "240                0.0             0                        160   \n",
       "241                0.0             5                        230   \n",
       "\n",
       "     Cholesterol (mg)   Dietary Fibre (g)   Sugars (g)   Protein (g)   \\\n",
       "237                67                   1           64            5.0   \n",
       "238                39                   0           38            4.0   \n",
       "239                39                   0           38            3.0   \n",
       "240                37                   1           35            3.0   \n",
       "241                56                   0           55            5.0   \n",
       "\n",
       "    Vitamin A (% DV)  Vitamin C (% DV)  Calcium (% DV)  Iron (% DV)   \\\n",
       "237                6%               8%              20%          10%   \n",
       "238                6%               0%              10%           0%   \n",
       "239                6%               0%              10%           0%   \n",
       "240                4%               0%              10%           6%   \n",
       "241                8%               0%              15%           0%   \n",
       "\n",
       "    Caffeine (mg)  \n",
       "237             0  \n",
       "238             0  \n",
       "239             0  \n",
       "240             0  \n",
       "241             0  "
      ]
     },
     "execution_count": 5,
     "metadata": {},
     "output_type": "execute_result"
    }
   ],
   "source": [
    "drinks_content.tail(5)"
   ]
  },
  {
   "cell_type": "code",
   "execution_count": 6,
   "metadata": {},
   "outputs": [
    {
     "data": {
      "text/plain": [
       "<bound method NDFrame.describe of               Beverage_category                                      Beverage  \\\n",
       "0                        Coffee                                 Brewed Coffee   \n",
       "1                        Coffee                                 Brewed Coffee   \n",
       "2                        Coffee                                 Brewed Coffee   \n",
       "3                        Coffee                                 Brewed Coffee   \n",
       "4       Classic Espresso Drinks                                   Caffè Latte   \n",
       "..                          ...                                           ...   \n",
       "237  Frappuccino® Blended Crème  Strawberries & Crème (Without Whipped Cream)   \n",
       "238  Frappuccino® Blended Crème          Vanilla Bean (Without Whipped Cream)   \n",
       "239  Frappuccino® Blended Crème          Vanilla Bean (Without Whipped Cream)   \n",
       "240  Frappuccino® Blended Crème          Vanilla Bean (Without Whipped Cream)   \n",
       "241  Frappuccino® Blended Crème          Vanilla Bean (Without Whipped Cream)   \n",
       "\n",
       "          Beverage_prep  Calories  Total Fat (g)  Trans Fat (g)   \\\n",
       "0                 Short         3            0.1             0.0   \n",
       "1                  Tall         4            0.1             0.0   \n",
       "2                Grande         5            0.1             0.0   \n",
       "3                 Venti         5            0.1             0.0   \n",
       "4     Short Nonfat Milk        70            0.1             0.1   \n",
       "..                  ...       ...            ...             ...   \n",
       "237             Soymilk       320            3 2             0.4   \n",
       "238    Tall Nonfat Milk       170            0.1             0.1   \n",
       "239          Whole Milk       200            3.5             2.0   \n",
       "240             Soymilk       180            1.5             0.2   \n",
       "241  Grande Nonfat Milk       240            0.1             0.1   \n",
       "\n",
       "     Saturated Fat (g)   Sodium (mg)   Total Carbohydrates (g)   \\\n",
       "0                  0.0             0                          5   \n",
       "1                  0.0             0                         10   \n",
       "2                  0.0             0                         10   \n",
       "3                  0.0             0                         10   \n",
       "4                  0.0             5                         75   \n",
       "..                 ...           ...                        ...   \n",
       "237                0.0             0                        250   \n",
       "238                0.0             0                        160   \n",
       "239                0.1            10                        160   \n",
       "240                0.0             0                        160   \n",
       "241                0.0             5                        230   \n",
       "\n",
       "     Cholesterol (mg)   Dietary Fibre (g)   Sugars (g)   Protein (g)   \\\n",
       "0                   0                   0            0            0.3   \n",
       "1                   0                   0            0            0.5   \n",
       "2                   0                   0            0            1.0   \n",
       "3                   0                   0            0            1.0   \n",
       "4                  10                   0            9            6.0   \n",
       "..                ...                 ...          ...            ...   \n",
       "237                67                   1           64            5.0   \n",
       "238                39                   0           38            4.0   \n",
       "239                39                   0           38            3.0   \n",
       "240                37                   1           35            3.0   \n",
       "241                56                   0           55            5.0   \n",
       "\n",
       "    Vitamin A (% DV)  Vitamin C (% DV)  Calcium (% DV)  Iron (% DV)   \\\n",
       "0                  0%               0%               0%           0%   \n",
       "1                  0%               0%               0%           0%   \n",
       "2                  0%               0%               0%           0%   \n",
       "3                  0%               0%               2%           0%   \n",
       "4                 10%               0%              20%           0%   \n",
       "..                ...              ...              ...          ...   \n",
       "237                6%               8%              20%          10%   \n",
       "238                6%               0%              10%           0%   \n",
       "239                6%               0%              10%           0%   \n",
       "240                4%               0%              10%           6%   \n",
       "241                8%               0%              15%           0%   \n",
       "\n",
       "    Caffeine (mg)  \n",
       "0             175  \n",
       "1             260  \n",
       "2             330  \n",
       "3             410  \n",
       "4              75  \n",
       "..            ...  \n",
       "237             0  \n",
       "238             0  \n",
       "239             0  \n",
       "240             0  \n",
       "241             0  \n",
       "\n",
       "[242 rows x 18 columns]>"
      ]
     },
     "execution_count": 6,
     "metadata": {},
     "output_type": "execute_result"
    }
   ],
   "source": [
    "drinks_content.describe"
   ]
  },
  {
   "cell_type": "code",
   "execution_count": 8,
   "metadata": {},
   "outputs": [
    {
     "data": {
      "text/plain": [
       "Index(['Beverage_category', 'Beverage', 'Beverage_prep', 'Calories',\n",
       "       ' Total Fat (g)', 'Trans Fat (g) ', 'Saturated Fat (g)', ' Sodium (mg)',\n",
       "       ' Total Carbohydrates (g) ', 'Cholesterol (mg)', ' Dietary Fibre (g)',\n",
       "       ' Sugars (g)', ' Protein (g) ', 'Vitamin A (% DV) ', 'Vitamin C (% DV)',\n",
       "       ' Calcium (% DV) ', 'Iron (% DV) ', 'Caffeine (mg)'],\n",
       "      dtype='object')"
      ]
     },
     "execution_count": 8,
     "metadata": {},
     "output_type": "execute_result"
    }
   ],
   "source": [
    "drinks_content.columns"
   ]
  },
  {
   "cell_type": "code",
   "execution_count": 11,
   "metadata": {},
   "outputs": [
    {
     "data": {
      "text/plain": [
       "193.87190082644628"
      ]
     },
     "execution_count": 11,
     "metadata": {},
     "output_type": "execute_result"
    }
   ],
   "source": [
    "# 02\n",
    "drinks_content[\"Calories\"].mean()"
   ]
  },
  {
   "cell_type": "code",
   "execution_count": 12,
   "metadata": {},
   "outputs": [
    {
     "data": {
      "text/plain": [
       "510"
      ]
     },
     "execution_count": 12,
     "metadata": {},
     "output_type": "execute_result"
    }
   ],
   "source": [
    "drinks_content[\"Calories\"].max()"
   ]
  },
  {
   "cell_type": "code",
   "execution_count": 13,
   "metadata": {},
   "outputs": [
    {
     "data": {
      "text/plain": [
       "0"
      ]
     },
     "execution_count": 13,
     "metadata": {},
     "output_type": "execute_result"
    }
   ],
   "source": [
    "drinks_content[\"Calories\"].min()"
   ]
  },
  {
   "cell_type": "code",
   "execution_count": 17,
   "metadata": {},
   "outputs": [
    {
     "data": {
      "image/png": "[encoded data removed]",
      "text/plain": [
       "<Figure size 640x480 with 1 Axes>"
      ]
     },
     "metadata": {},
     "output_type": "display_data"
    }
   ],
   "source": [
    "plt.boxplot(\"Calories\", data = drinks_content);"
   ]
  },
  {
   "cell_type": "code",
   "execution_count": 24,
   "metadata": {},
   "outputs": [],
   "source": [
    "drinks = drinks_content.loc[:, [\"Beverage_category\", \"Beverage\", \"Beverage_prep\", \"Calories\"]].copy()"
   ]
  },
  {
   "cell_type": "code",
   "execution_count": 27,
   "metadata": {},
   "outputs": [
    {
     "data": {
      "text/plain": [
       "Index(['Beverage_category', 'Beverage', 'Beverage_prep', 'Calories'], dtype='object')"
      ]
     },
     "execution_count": 27,
     "metadata": {},
     "output_type": "execute_result"
    }
   ],
   "source": [
    "drinks.columns"
   ]
  },
  {
   "cell_type": "code",
   "execution_count": 30,
   "metadata": {},
   "outputs": [
    {
     "data": {
      "text/plain": [
       "Beverage_category    0\n",
       "Beverage             0\n",
       "Beverage_prep        0\n",
       "Calories             0\n",
       "dtype: int64"
      ]
     },
     "execution_count": 30,
     "metadata": {},
     "output_type": "execute_result"
    }
   ],
   "source": [
    "drinks.isna().sum()"
   ]
  },
  {
   "cell_type": "code",
   "execution_count": 41,
   "metadata": {},
   "outputs": [],
   "source": [
    "drinks_mean_kcal = drinks.groupby(\"Beverage\")[\"Calories\"].mean().reset_index(name = \"Mean kcal\")"
   ]
  },
  {
   "cell_type": "code",
   "execution_count": 50,
   "metadata": {},
   "outputs": [],
   "source": [
    "# 05\n",
    "drinks_bevprep_mean = drinks.groupby(\"Beverage_prep\")[\"Calories\"].mean().reset_index(name = \"mean_kcal\")\n",
    "avg_prep_kcal = drinks[\"Calories\"].mean()\n",
    "drinks_bevprep_mean[\"above_avg_kcal\"] = drinks_bevprep_mean[\"mean_kcal\"]-avg_prep_kcal\n",
    "drinks_bevprep_mean[\"is_above_avg_kcal\"] = drinks_bevprep_mean[\"above_avg_kcal\"].apply(lambda x: \"True\" if x >0 else \"False\")"
   ]
  },
  {
   "cell_type": "code",
   "execution_count": 51,
   "metadata": {},
   "outputs": [
    {
     "data": {
      "text/html": [
       "<div>\n",
       "<style scoped>\n",
       "    .dataframe tbody tr th:only-of-type {\n",
       "        vertical-align: middle;\n",
       "    }\n",
       "\n",
       "    .dataframe tbody tr th {\n",
       "        vertical-align: top;\n",
       "    }\n",
       "\n",
       "    .dataframe thead th {\n",
       "        text-align: right;\n",
       "    }\n",
       "</style>\n",
       "<table border=\"1\" class=\"dataframe\">\n",
       "  <thead>\n",
       "    <tr style=\"text-align: right;\">\n",
       "      <th></th>\n",
       "      <th>Beverage_prep</th>\n",
       "      <th>mean_kcal</th>\n",
       "      <th>above_avg_kcal</th>\n",
       "      <th>is_above_avg_kcal</th>\n",
       "    </tr>\n",
       "  </thead>\n",
       "  <tbody>\n",
       "    <tr>\n",
       "      <th>0</th>\n",
       "      <td>2% Milk</td>\n",
       "      <td>218.000000</td>\n",
       "      <td>24.128099</td>\n",
       "      <td>True</td>\n",
       "    </tr>\n",
       "    <tr>\n",
       "      <th>3</th>\n",
       "      <td>Grande Nonfat Milk</td>\n",
       "      <td>209.615385</td>\n",
       "      <td>15.743484</td>\n",
       "      <td>True</td>\n",
       "    </tr>\n",
       "    <tr>\n",
       "      <th>7</th>\n",
       "      <td>Soymilk</td>\n",
       "      <td>207.272727</td>\n",
       "      <td>13.400826</td>\n",
       "      <td>True</td>\n",
       "    </tr>\n",
       "    <tr>\n",
       "      <th>11</th>\n",
       "      <td>Venti Nonfat Milk</td>\n",
       "      <td>260.000000</td>\n",
       "      <td>66.128099</td>\n",
       "      <td>True</td>\n",
       "    </tr>\n",
       "    <tr>\n",
       "      <th>12</th>\n",
       "      <td>Whole Milk</td>\n",
       "      <td>283.750000</td>\n",
       "      <td>89.878099</td>\n",
       "      <td>True</td>\n",
       "    </tr>\n",
       "  </tbody>\n",
       "</table>\n",
       "</div>"
      ],
      "text/plain": [
       "         Beverage_prep   mean_kcal  above_avg_kcal is_above_avg_kcal\n",
       "0              2% Milk  218.000000       24.128099              True\n",
       "3   Grande Nonfat Milk  209.615385       15.743484              True\n",
       "7              Soymilk  207.272727       13.400826              True\n",
       "11   Venti Nonfat Milk  260.000000       66.128099              True\n",
       "12          Whole Milk  283.750000       89.878099              True"
      ]
     },
     "execution_count": 51,
     "metadata": {},
     "output_type": "execute_result"
    }
   ],
   "source": [
    "drinks_bevprep_mean.loc[drinks_bevprep_mean[\"is_above_avg_kcal\"] == \"True\"]"
   ]
  },
  {
   "cell_type": "code",
   "execution_count": 63,
   "metadata": {},
   "outputs": [],
   "source": [
    "drinks_coffee = drinks.loc[drinks[\"Beverage\"] == \"Coffee\"].copy()"
   ]
  },
  {
   "cell_type": "code",
   "execution_count": 61,
   "metadata": {},
   "outputs": [
    {
     "data": {
      "text/plain": [
       "Beverage_category    Frappuccino® Light Blended Coffee\n",
       "Beverage                                        Coffee\n",
       "Beverage_prep                         Tall Nonfat Milk\n",
       "Calories                                            90\n",
       "calorie_diff                                        45\n",
       "Name: 217, dtype: object"
      ]
     },
     "execution_count": 61,
     "metadata": {},
     "output_type": "execute_result"
    }
   ],
   "source": [
    "drinks_coffee.loc[drinks_coffee[\"Calories\"].idxmin()]"
   ]
  },
  {
   "cell_type": "code",
   "execution_count": 57,
   "metadata": {},
   "outputs": [
    {
     "data": {
      "text/plain": [
       "90"
      ]
     },
     "execution_count": 57,
     "metadata": {},
     "output_type": "execute_result"
    }
   ],
   "source": [
    "drinks_coffee[\"Calories\"].min()"
   ]
  },
  {
   "cell_type": "code",
   "execution_count": 64,
   "metadata": {},
   "outputs": [],
   "source": [
    "drinks_espresso = drinks.loc[drinks[\"Beverage_category\"] == \"Classic Espresso Drinks\"].copy()"
   ]
  },
  {
   "cell_type": "code",
   "execution_count": 80,
   "metadata": {},
   "outputs": [],
   "source": [
    "drinks_espresso_kcalsummary = drinks_espresso.groupby(\"Beverage_prep\")[\"Calories\"].mean().reset_index(name = \"mean_kcals\")"
   ]
  },
  {
   "cell_type": "code",
   "execution_count": 75,
   "metadata": {},
   "outputs": [
    {
     "data": {
      "text/html": [
       "<div>\n",
       "<style scoped>\n",
       "    .dataframe tbody tr th:only-of-type {\n",
       "        vertical-align: middle;\n",
       "    }\n",
       "\n",
       "    .dataframe tbody tr th {\n",
       "        vertical-align: top;\n",
       "    }\n",
       "\n",
       "    .dataframe thead th {\n",
       "        text-align: right;\n",
       "    }\n",
       "</style>\n",
       "<table border=\"1\" class=\"dataframe\">\n",
       "  <thead>\n",
       "    <tr style=\"text-align: right;\">\n",
       "      <th></th>\n",
       "      <th>Beverage_prep</th>\n",
       "      <th>mean_kcals</th>\n",
       "    </tr>\n",
       "  </thead>\n",
       "  <tbody>\n",
       "    <tr>\n",
       "      <th>11</th>\n",
       "      <td>Venti Nonfat Milk</td>\n",
       "      <td>194.000</td>\n",
       "    </tr>\n",
       "    <tr>\n",
       "      <th>0</th>\n",
       "      <td>2% Milk</td>\n",
       "      <td>184.375</td>\n",
       "    </tr>\n",
       "    <tr>\n",
       "      <th>7</th>\n",
       "      <td>Soymilk</td>\n",
       "      <td>151.250</td>\n",
       "    </tr>\n",
       "    <tr>\n",
       "      <th>3</th>\n",
       "      <td>Grande Nonfat Milk</td>\n",
       "      <td>150.000</td>\n",
       "    </tr>\n",
       "    <tr>\n",
       "      <th>9</th>\n",
       "      <td>Tall Nonfat Milk</td>\n",
       "      <td>116.000</td>\n",
       "    </tr>\n",
       "    <tr>\n",
       "      <th>5</th>\n",
       "      <td>Short Nonfat Milk</td>\n",
       "      <td>78.000</td>\n",
       "    </tr>\n",
       "    <tr>\n",
       "      <th>10</th>\n",
       "      <td>Venti</td>\n",
       "      <td>25.000</td>\n",
       "    </tr>\n",
       "    <tr>\n",
       "      <th>2</th>\n",
       "      <td>Grande</td>\n",
       "      <td>15.000</td>\n",
       "    </tr>\n",
       "    <tr>\n",
       "      <th>1</th>\n",
       "      <td>Doppio</td>\n",
       "      <td>10.000</td>\n",
       "    </tr>\n",
       "    <tr>\n",
       "      <th>8</th>\n",
       "      <td>Tall</td>\n",
       "      <td>10.000</td>\n",
       "    </tr>\n",
       "    <tr>\n",
       "      <th>4</th>\n",
       "      <td>Short</td>\n",
       "      <td>5.000</td>\n",
       "    </tr>\n",
       "    <tr>\n",
       "      <th>6</th>\n",
       "      <td>Solo</td>\n",
       "      <td>5.000</td>\n",
       "    </tr>\n",
       "  </tbody>\n",
       "</table>\n",
       "</div>"
      ],
      "text/plain": [
       "         Beverage_prep  mean_kcals\n",
       "11   Venti Nonfat Milk     194.000\n",
       "0              2% Milk     184.375\n",
       "7              Soymilk     151.250\n",
       "3   Grande Nonfat Milk     150.000\n",
       "9     Tall Nonfat Milk     116.000\n",
       "5    Short Nonfat Milk      78.000\n",
       "10               Venti      25.000\n",
       "2               Grande      15.000\n",
       "1               Doppio      10.000\n",
       "8                 Tall      10.000\n",
       "4                Short       5.000\n",
       "6                 Solo       5.000"
      ]
     },
     "execution_count": 75,
     "metadata": {},
     "output_type": "execute_result"
    }
   ],
   "source": [
    "drinks_espresso_kcalsummary.sort_values(\"mean_kcals\", ascending  = False)"
   ]
  }
 ],
 "metadata": {
  "kernelspec": {
   "display_name": "Python 3",
   "language": "python",
   "name": "python3"
  },
  "language_info": {
   "codemirror_mode": {
    "name": "ipython",
    "version": 3
   },
   "file_extension": ".py",
   "mimetype": "text/x-python",
   "name": "python",
   "nbconvert_exporter": "python",
   "pygments_lexer": "ipython3",
   "version": "3.12.2"
  }
 },
 "nbformat": 4,
 "nbformat_minor": 2
}
